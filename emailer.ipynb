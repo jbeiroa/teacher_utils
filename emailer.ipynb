{
 "cells": [
  {
   "cell_type": "markdown",
   "id": "34497516-d405-4e9a-a7b1-f896539f0534",
   "metadata": {},
   "source": [
    "## Emailer"
   ]
  },
  {
   "cell_type": "code",
   "execution_count": 2,
   "id": "fe4ce270-f5a5-47e5-b290-7aadf45b6fea",
   "metadata": {},
   "outputs": [],
   "source": [
    "import csv\n",
    "\n",
    "import smtplib\n",
    "from email.mime.multipart import MIMEMultipart\n",
    "from email.mime.text import MIMEText"
   ]
  },
  {
   "cell_type": "code",
   "execution_count": 3,
   "id": "bbfa360b-49bb-445e-abc2-ee06ca1a9b04",
   "metadata": {},
   "outputs": [],
   "source": [
    "# password saved in keyring\n",
    "import keyring\n",
    "sender_email = \"j.beiroa@bayard.edu.ar\"\n",
    "password = keyring.get_password(\"smtp.gmail.com\", sender_email)"
   ]
  },
  {
   "cell_type": "code",
   "execution_count": 57,
   "id": "99212122-a843-4970-a75a-dc90e67ffe76",
   "metadata": {},
   "outputs": [],
   "source": [
    "contents_dict = {\n",
    "    \"unidad1\": \"Unidades de medida\",\n",
    "    \"unidad2\": \"Energía\",\n",
    "    \"unidad3\": \"Procesos bioenergéticos\",\n",
    "    \"unidad4\": \"Mezclas y soluciones\",\n",
    "    \"unidad5\": \"Estados de agregación de la materia y explicaciones científicas\",\n",
    "    \"unidad6\": \"Calor y temperatura\"\n",
    "}\n",
    "\n",
    "def write_body(name, pia, diciembre, contents):\n",
    "    body = f\"\"\"Hola {name},\n",
    "\n",
    "Te escribo para informarte de los contenidos que tenés que rendir en el período PIA de noviembre y en diciembre.\n",
    "\n",
    "En el período PIA, hasta el momento, debés recuperar: {\", \".join(contents[content] for content in pia)}.\n",
    "\n",
    "En diciembre, hasta el momento, debés recuperar: {\", \".join(contents[content] for content in diciembre)}.\n",
    "\n",
    "Saludos.\"\"\"\n",
    "    return body"
   ]
  },
  {
   "cell_type": "code",
   "execution_count": 59,
   "id": "a3d07e96-75ea-4ecd-be22-33c1eb8343d5",
   "metadata": {},
   "outputs": [],
   "source": [
    "with smtplib.SMTP(\"smtp.gmail.com\", 587) as server:\n",
    "    server.starttls()  # Start TLS encryption\n",
    "    server.login(sender_email, password)  # Log into email account\n",
    "    message = MIMEMultipart()\n",
    "    message[\"From\"] = sender_email\n",
    "    message[\"To\"] = sender_email\n",
    "    message[\"Subject\"] = \"This is a test email.\"\n",
    "    message.attach(MIMEText(write_body(\"Juan\", [\"unidad1\", \"unidad3\"], [\"unidad1\", \"unidad3\"], contents_dict), \"plain\"))\n",
    "    server.sendmail(sender_email, sender_email, message.as_string())"
   ]
  },
  {
   "cell_type": "code",
   "execution_count": null,
   "id": "59dddfa1-94e1-4d25-bca3-32c1b6e18e7b",
   "metadata": {},
   "outputs": [],
   "source": []
  }
 ],
 "metadata": {
  "kernelspec": {
   "display_name": "Python 3 (ipykernel)",
   "language": "python",
   "name": "python3"
  },
  "language_info": {
   "codemirror_mode": {
    "name": "ipython",
    "version": 3
   },
   "file_extension": ".py",
   "mimetype": "text/x-python",
   "name": "python",
   "nbconvert_exporter": "python",
   "pygments_lexer": "ipython3",
   "version": "3.12.7"
  }
 },
 "nbformat": 4,
 "nbformat_minor": 5
}
